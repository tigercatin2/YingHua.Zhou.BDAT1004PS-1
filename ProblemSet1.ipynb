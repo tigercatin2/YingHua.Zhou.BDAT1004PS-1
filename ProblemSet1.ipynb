{
 "cells": [
  {
   "cell_type": "markdown",
   "id": "5df42416",
   "metadata": {},
   "source": [
    "# BDAT 1004 – Data Programming\n",
    "\n",
    "## Problem Set 1\n",
    "\n",
    "\n",
    "\n",
    "### Q1. What data type is each of the following (evaluate where necessary)?\n",
    "\n",
    "#### 5  (Numeric:  int)\n",
    "#### 5.0 (Numeric: float)\n",
    "#### 5 > 1 (Boolean: bool)\n",
    "#### '5' (String: str)\n",
    "#### 5 * 2 (Numeric:  int)\n",
    "#### '5' + '2' (String: str)\n",
    "#### 5 / 2 (Numeric: float)\n",
    "#### 5 % 2 (Numeric:  int)\n",
    "#### {5, 2, 1} (Set: set)\n",
    "#### 5 == 3 (Boolean: bool)\n",
    "#### Pi ( the number )  (Numeric: float)\n",
    "\n",
    "### Q2. Write (and evaluate) python expressions that answer these questions:\n",
    "#### a. How many letters are there in 'Supercalifragilisticexpialidocious'?"
   ]
  },
  {
   "cell_type": "code",
   "execution_count": 17,
   "id": "d5a3e101",
   "metadata": {},
   "outputs": [
    {
     "name": "stdout",
     "output_type": "stream",
     "text": [
      "34\n"
     ]
    }
   ],
   "source": [
    "print(len('Supercalifragilisticexpialidocious'))"
   ]
  },
  {
   "cell_type": "markdown",
   "id": "20237b2c",
   "metadata": {},
   "source": [
    "#### b. Does 'Supercalifragilisticexpialidocious' contain 'ice' as a substring?"
   ]
  },
  {
   "cell_type": "code",
   "execution_count": 26,
   "id": "be1cc1ab",
   "metadata": {},
   "outputs": [
    {
     "name": "stdout",
     "output_type": "stream",
     "text": [
      "True\n"
     ]
    }
   ],
   "source": [
    "print('ice' in 'Supercalifragilisticexpialidocious')"
   ]
  },
  {
   "cell_type": "markdown",
   "id": "da24e1e6",
   "metadata": {},
   "source": [
    "#### c. Which of the following words is the longest: Supercalifragilisticexpialidocious, Honorificabilitudinitatibus, or Bababadalgharaghtakamminarronnkonn?"
   ]
  },
  {
   "cell_type": "code",
   "execution_count": 45,
   "id": "a09e71cc",
   "metadata": {},
   "outputs": [
    {
     "name": "stdout",
     "output_type": "stream",
     "text": [
      "Supercalifragilisticexpialidocious\n",
      "Bababadalgharaghtakamminarronnkonn\n"
     ]
    }
   ],
   "source": [
    "words =['Supercalifragilisticexpialidocious', 'Honorificabilitudinitatibus','Bababadalgharaghtakamminarronnkonn']\n",
    "longest_word=max(words, key=len)\n",
    "for word in words:\n",
    "    if len(word)==len(longest_word):\n",
    "        print(word) "
   ]
  },
  {
   "cell_type": "markdown",
   "id": "c7901135",
   "metadata": {},
   "source": [
    "#### d. Which composer comes first in the dictionary: 'Berlioz', 'Borodin', 'Brian', 'Bartok', 'Bellini', 'Buxtehude', 'Bernstein'. Which one comes last?"
   ]
  },
  {
   "cell_type": "code",
   "execution_count": 51,
   "id": "d054ed1b",
   "metadata": {},
   "outputs": [
    {
     "name": "stdout",
     "output_type": "stream",
     "text": [
      "The composer comes first in the dictionary is 'Bartok'.\n",
      "The composer comes last in the dictionary is 'Buxtehude'.\n"
     ]
    }
   ],
   "source": [
    "a=('Berlioz', 'Borodin', 'Brian', 'Bartok', 'Bellini', 'Buxtehude', 'Bernstein')\n",
    "x= sorted(a)\n",
    "print(\"The composer comes first in the dictionary is '\"+ x[0] +\"'.\")\n",
    "print(\"The composer comes last in the dictionary is '\"+ x[len(x)-1] +\"'.\")"
   ]
  },
  {
   "cell_type": "markdown",
   "id": "e57aba72",
   "metadata": {},
   "source": [
    "### Question 3\n",
    "#### Implement function triangleArea(a,b,c) that takes as input the lengths of the 3 sides of a triangle and returns the area of the triangle. By Heron's formula, the area of a triangle with side lengths a, b, and c is Square root [s(s - a)(s -b)(s -c)], where s = (a+b+c)/2. \n",
    "#### >>> triangleArea(2,2,2)\n",
    "#### 1.7320508075688772"
   ]
  },
  {
   "cell_type": "code",
   "execution_count": 67,
   "id": "0854a034",
   "metadata": {},
   "outputs": [
    {
     "name": "stdout",
     "output_type": "stream",
     "text": [
      "Enter the lengths of a side of a triangle: a = 2\n",
      "Enter the lengths of a side of a triangle: b = 2\n",
      "Enter the lengths of a side of a triangle: c = 2\n",
      "triangleArea(2,2,2)\n",
      "1.7320508075688772\n"
     ]
    }
   ],
   "source": [
    "import math\n",
    "\n",
    "def triangleArea(a,b,c):\n",
    "    a= input(\"Enter the lengths of a side of a triangle: a = \")\n",
    "    b= input(\"Enter the lengths of a side of a triangle: b = \")\n",
    "    c= input(\"Enter the lengths of a side of a triangle: c = \")   \n",
    "    A=float(a)\n",
    "    B=float(b)\n",
    "    C=float(c)\n",
    "    s= (A + B+ C)/2\n",
    "    print('triangleArea('+ a +','+b+','+c+')')\n",
    "    print(math.sqrt(s*(s - A)*(s -B)*(s -C)))\n",
    "\n",
    "\n",
    "triangleArea(a,b,c)    "
   ]
  },
  {
   "cell_type": "markdown",
   "id": "863d6367",
   "metadata": {},
   "source": [
    "### Question 4\n",
    "\n",
    "#### Write a program in python to separate odd and even integers in separate arrays. Go to the editor\n",
    "#### Test Data :\n",
    "#### Input the number of elements to be stored in the array :5\n",
    "#### Input 5 elements in the array :\n",
    "#### element - 0 : 25\n",
    "#### element - 1 : 47\n",
    "#### element - 2 : 42\n",
    "#### element - 3 : 56\n",
    "#### element - 4 : 32\n",
    "#### Expected Output:\n",
    "#### The Even elements are:\n",
    "#### 42 56 32\n",
    "#### The Odd elements are :\n",
    "#### 25 47"
   ]
  },
  {
   "cell_type": "code",
   "execution_count": 80,
   "id": "db69eddf",
   "metadata": {},
   "outputs": [
    {
     "name": "stdout",
     "output_type": "stream",
     "text": [
      "Input the number of elements to be stored in the array : 5\n",
      "Element - 0 : 25\n",
      "Element - 1 : 47\n",
      "Element - 2 : 42\n",
      "Element - 3 : 56\n",
      "Element - 4 : 32\n",
      "The Even elements are:\n",
      "42 56 32\n",
      "The Odd elements are:\n",
      "25 47\n"
     ]
    }
   ],
   "source": [
    "NumList = []\n",
    "Even = []\n",
    "Odd = []\n",
    " \n",
    "Number = int(input(\"Input the number of elements to be stored in the array : \"))\n",
    " \n",
    "for i in range(0, Number):\n",
    "    value = int(input('Element - %d : '%i))\n",
    "    NumList.append(value)\n",
    " \n",
    "for j in range(Number):\n",
    "    if(NumList[j] % 2 == 0):\n",
    "        Even.append(NumList[j])\n",
    "    else:\n",
    "        Odd.append(NumList[j])\n",
    "\n",
    "print(\"The Even elements are:\")\n",
    "print(*Even, sep=\" \")\n",
    "print(\"The Odd elements are:\")\n",
    "print(*Odd, sep=\" \")\n",
    "      "
   ]
  },
  {
   "cell_type": "markdown",
   "id": "582ab09c",
   "metadata": {},
   "source": [
    "### Question 5 \n",
    "#### a. Write a function inside(x,y,x1,y1,x2,y2) that returns True or False depending on whether the point (x,y) lies in the rectangle with lower left corner (x1,y1) and upper right corner (x2,y2).\n",
    "#### >>> inside(1,1,0,0,2,3)\n",
    "#### True\n",
    "\n",
    "#### >>> inside(-1,-1,0,0,2,3)\n",
    "#### False\n"
   ]
  },
  {
   "cell_type": "code",
   "execution_count": null,
   "id": "f3d073f0",
   "metadata": {},
   "outputs": [],
   "source": [
    "def inside(x,y,x1,y1,x2,y2):\n",
    "    if (x > x1 and x < x2 and\n",
    "        y > y1 and y < y2) :\n",
    "        return True\n",
    "    else :\n",
    "        return False"
   ]
  },
  {
   "cell_type": "markdown",
   "id": "90f21d8c",
   "metadata": {},
   "source": [
    "#### b. Use function inside() from part a. to write an expression that tests whether the point (1,1) lies in both of the following rectangles: one with lower left corner (0.3, 0.5) and upper right corner (1.1, 0.7) and the other with lower left corner (0.5, 0.2) and upper right corner (1.1, 2)."
   ]
  },
  {
   "cell_type": "code",
   "execution_count": 83,
   "id": "f1897b59",
   "metadata": {},
   "outputs": [
    {
     "data": {
      "text/plain": [
       "False"
      ]
     },
     "execution_count": 83,
     "metadata": {},
     "output_type": "execute_result"
    }
   ],
   "source": [
    "def inside(x,y,x1,y1,x2,y2):\n",
    "    if (x > x1 and x < x2 and\n",
    "        y > y1 and y < y2) :\n",
    "        return True\n",
    "    else :\n",
    "        return False\n",
    "x=1\n",
    "y=1\n",
    "x1=0.3\n",
    "y1=0.5\n",
    "x2=1.1\n",
    "y2=0.7\n",
    "inside(x,y,x1,y1,x2,y2)"
   ]
  },
  {
   "cell_type": "code",
   "execution_count": 16,
   "id": "bcee7b3b",
   "metadata": {},
   "outputs": [
    {
     "data": {
      "text/plain": [
       "True"
      ]
     },
     "execution_count": 16,
     "metadata": {},
     "output_type": "execute_result"
    }
   ],
   "source": [
    "def inside(x,y,x1,y1,x2,y2):\n",
    "    if (x > x1 and x < x2 and\n",
    "        y > y1 and y < y2) :\n",
    "        return True\n",
    "    else :\n",
    "        return False\n",
    "x=1\n",
    "y=1\n",
    "x1=0.5\n",
    "y1=0.2\n",
    "x2=1.1\n",
    "y2=2\n",
    "inside(x,y,x1,y1,x2,y2)"
   ]
  },
  {
   "cell_type": "markdown",
   "id": "8dcc1e25",
   "metadata": {},
   "source": [
    "### Question 6\n",
    "#### You can turn a word into pig-Latin using the following two rules (simplified):\n",
    "#### •  If the word starts with a consonant, move that letter to the end and append 'ay'. For example, 'happy' becomes 'appyhay' and 'pencil' becomes 'encilpay'.\n",
    "#### •  If the word starts with a vowel, simply append 'way' to the end of the word. For example, 'enter' becomes 'enterway' and 'other' becomes 'otherway' . For our purposes, there are 5 vowels: a, e, i, o, u (so we count y as a consonant).\n",
    "#### Write a function pig() that takes a word (i.e., a string) as input and returns its pig\u0002Latin form. Your function should still work if the input word contains upper case characters. Your output should always be lower case however. \n",
    "#### >>> pig('happy')\n",
    "#### 'appyhay'\n",
    "#### >>> pig('Enter')\n",
    "#### 'enterway"
   ]
  },
  {
   "cell_type": "code",
   "execution_count": 20,
   "id": "51939ab2",
   "metadata": {},
   "outputs": [
    {
     "name": "stdout",
     "output_type": "stream",
     "text": [
      "Enter a word: Enter\n",
      "pig('Enter')\n",
      "'enterway'\n"
     ]
    }
   ],
   "source": [
    "def pig(original):\n",
    "    vowel =['a','A','e','E','i','I','o','O','u','U']\n",
    "    latin=''    \n",
    "           \n",
    "    print(\"pig('\" + original + \"')\")\n",
    "    if original[0] in vowel:\n",
    "        for i in range(0,len(original)):\n",
    "            latin += original[i].lower()\n",
    "        latin += 'way'\n",
    "    else:\n",
    "        for i in range(1,len(original)):\n",
    "            latin += original[i].lower()\n",
    "        latin += (original[0]+'ay')\n",
    "        \n",
    "    print(\"'\"+latin+\"'\")\n",
    "\n",
    "original = input (\"Enter a word: \")    \n",
    "pig(original)"
   ]
  },
  {
   "cell_type": "code",
   "execution_count": 23,
   "id": "d29f8d05",
   "metadata": {},
   "outputs": [
    {
     "name": "stdout",
     "output_type": "stream",
     "text": [
      "Enter a word: happy\n",
      "pig('happy')\n",
      "'appyhay'\n"
     ]
    }
   ],
   "source": [
    "def pig(original):\n",
    "    vowel =['a','A','e','E','i','I','o','O','u','U']\n",
    "    latin=''    \n",
    "           \n",
    "    print(\"pig('\" + original + \"')\")\n",
    "    if original[0] in vowel:\n",
    "        for i in range(0,len(original)):\n",
    "            latin += original[i].lower()\n",
    "        latin += 'way'\n",
    "    else:\n",
    "        for i in range(1,len(original)):\n",
    "            latin += original[i].lower()\n",
    "        latin += (original[0]+'ay')\n",
    "        \n",
    "    print(\"'\"+latin+\"'\")\n",
    "\n",
    "original = input (\"Enter a word: \")    \n",
    "pig(original)"
   ]
  },
  {
   "cell_type": "markdown",
   "id": "e6b75358",
   "metadata": {},
   "source": [
    "### Question 7\n",
    "#### File bloodtype1.txt records blood-types of patients (A, B, AB, O or OO) at a clinic. Write a function bldcount() that reads the file with name name and reports (i.e., prints) how many patients there are in each bloodtype.\n",
    "#### >>> bldcount('bloodtype.txt')\n",
    "#### There are 10 patients of blood type A.\n",
    "#### There is one patient of blood type B.\n",
    "#### There are 10 patients of blood type AB.\n",
    "#### There are 12 patients of blood type O.\n",
    "#### There are no patients of blood type OO."
   ]
  },
  {
   "cell_type": "code",
   "execution_count": 45,
   "id": "93794184",
   "metadata": {},
   "outputs": [
    {
     "name": "stdout",
     "output_type": "stream",
     "text": [
      "There is 15 patients  of blood type A.\n",
      "There is one patient  of blood type B.\n",
      "There is 13 patients  of blood type AB.\n",
      "There is 15 patients  of blood type O.\n",
      "There are no patients  of blood type OO.\n"
     ]
    }
   ],
   "source": [
    "def bldcount():\n",
    "    infile = open('bloodtype1.txt', 'r')\n",
    "    content = infile.read()\n",
    "    infile.close()\n",
    "    wordList = content.split()\n",
    "        \n",
    "    countA=0\n",
    "    countB=0\n",
    "    countAB=0\n",
    "    countO=0\n",
    "    countOO=0\n",
    "    \n",
    "    for word in wordList:\n",
    "        if word == 'A':\n",
    "            countA +=1\n",
    "        elif word == 'B':\n",
    "            countB +=1\n",
    "        elif word =='AB':\n",
    "            countAB +=1\n",
    "        elif word == 'O':\n",
    "            countO +=1\n",
    "        else:\n",
    "            countOO +=1\n",
    "            \n",
    "    if countA==0:\n",
    "        A ='There are no patients'\n",
    "    elif countA==1:\n",
    "        A ='There is one patient'\n",
    "    else: \n",
    "        A ='There is '+ str(countA) +' patients'\n",
    "        \n",
    "    if countB==0:\n",
    "        B ='There are no patients'\n",
    "    elif countB==1:\n",
    "        B ='There is one patient'\n",
    "    else: \n",
    "        B ='There is '+ str(countB) +' patients'\n",
    "        \n",
    "    if countAB==0:\n",
    "        AB ='There are no patients'\n",
    "    elif countAB==1:\n",
    "        AB ='There is one patient'\n",
    "    else: \n",
    "        AB ='There is '+ str(countAB) +' patients'    \n",
    "    \n",
    "    if countO==0:\n",
    "        O ='There are no patients'\n",
    "    elif countO==1:\n",
    "        O ='There is one patient'\n",
    "    else: \n",
    "        O ='There is '+ str(countO) +' patients'\n",
    "        \n",
    "    if countOO==0:\n",
    "        OO ='There are no patients'\n",
    "    elif countOO==1:\n",
    "        OO ='There is one patient'\n",
    "    else: \n",
    "        OO ='There is '+ str(countOO) +' patients'            \n",
    "        \n",
    "    print(A + '  of blood type A.')    \n",
    "    print(B + '  of blood type B.')\n",
    "    print(AB + '  of blood type AB.')            \n",
    "    print(O + '  of blood type O.')\n",
    "    print(OO + '  of blood type OO.')    \n",
    "\n",
    "bldcount()    "
   ]
  },
  {
   "cell_type": "markdown",
   "id": "640be78b",
   "metadata": {},
   "source": [
    "### Question 8\n",
    "#### Write a function curconv() that takes as input:\n",
    "#### 1. a currency represented using a string (e.g., 'JPY' for the Japanese Yen or 'EUR' for the Euro)\n",
    "#### 2. an amount\n",
    "#### and then converts and returns the amount in US dollars.\n",
    "#### >>> curconv('EUR', 100)\n",
    "#### 122.96544\n",
    "#### >>> curconv('JPY', 100)\n",
    "#### 1.241401\n",
    "#### The currency rates you will need are stored in file currencies.txt:\n",
    "#### AUD 1.0345157 Australian Dollar\n",
    "#### CHF 1.0237414 Swiss Franc\n",
    "#### CNY 0.1550176 Chinese Yuan\n",
    "#### DKK 0.1651442 Danish Krone\n",
    "#### EUR 1.2296544 Euro\n",
    "#### GBP 1.5550989 British Pound\n",
    "#### HKD 0.1270207 Hong Kong Dollar\n",
    "#### INR 0.0177643 Indian Rupee\n",
    "#### JPY 0.01241401 Japanese Yen\n",
    "#### MXN 0.0751848 Mexican Peso\n",
    "#### MYR 0.3145411 Malaysian Ringgit\n",
    "#### NOK 0.1677063 Norwegian Krone\n",
    "#### NZD 0.8003591 New Zealand Dollar\n",
    "#### PHP 0.0233234 Philippine Peso\n",
    "#### SEK 0.148269 Swedish Krona\n",
    "#### SGD 0.788871 Singapore Dollar\n",
    "#### THB 0.0313789 Thai Baht"
   ]
  },
  {
   "cell_type": "code",
   "execution_count": 67,
   "id": "72931d2a",
   "metadata": {},
   "outputs": [
    {
     "name": "stdout",
     "output_type": "stream",
     "text": [
      "Enter a currency represented using a string (e.g., 'JPY' for the Japanese Yen or 'EUR' for the Euro): THB\n",
      "Enter an amount: 2\n",
      "curconv(THB,2)\n",
      "0.0627578\n"
     ]
    }
   ],
   "source": [
    "import re\n",
    "\n",
    "def curconv():\n",
    "    currency = input(\"Enter a currency represented using a string (e.g., 'JPY' for the Japanese Yen or 'EUR' for the Euro): \")\n",
    "    amount = input('Enter an amount: ')    \n",
    "      \n",
    "    infile = open('currencies.txt', 'r')\n",
    "    lineList = infile.readlines()\n",
    "    infile.close()\n",
    "    \n",
    "    for line in lineList:\n",
    "        if line.find(currency) != -1:\n",
    "            lst = re.findall(r\"[-+]?\\d*\\.\\d+|\\d+\",line)\n",
    "            rate = lst[0]\n",
    "    q =float(amount)\n",
    "    r=float(rate)\n",
    "    result=q*r\n",
    "    \n",
    "    print('curconv('+ currency + ',' + amount +')')\n",
    "    print(result)\n",
    "    \n",
    "curconv()    "
   ]
  },
  {
   "attachments": {},
   "cell_type": "markdown",
   "id": "d949498e",
   "metadata": {},
   "source": [
    "### Question 9\n",
    "#### Each of the following will cause an exception (an error). Identify what type of exception each will cause.\n",
    "#### Trying to add incompatible variables, as in adding 6 + ‘a’\n",
    "> TypeError: unsupported operand type(s) for +: 'int' and 'str'\n",
    "#### Referring to the 12th item of a list that has only 10 items\n",
    "> IndexError: list index out of range\n",
    "#### Using a value that is out of range for a function’s input, such as calling math.sqrt(-1.0)\n",
    "> ValueError: math domain error\n",
    "#### Using an undeclared variable, such as print(x) when x has not been defined \n",
    "> NameError: name is not defined\n",
    "#### Trying to open a file that does not exist, such as mistyping the file name or looking in the wrong directory\n",
    "> FileNotFoundError: No such file or directory"
   ]
  },
  {
   "cell_type": "markdown",
   "id": "fdd80cf4",
   "metadata": {},
   "source": [
    "### Question 10\n",
    "#### Encryption is the process of hiding the meaning of a text by substituting letters in the message with other letters, according to some system. If the process is successful, no one but the intended recipient can understand the encrypted message. Cryptanalysis refers to attempts to undo the encryption, even if some details of the encryption are unknown (for example, if an encrypted message has been intercepted). The first step of cryptanalysis is often to build up a table of letter frequencies in the encrypted text. Assume that the string *letters* is already defined as 'abcdefghijklmnopqrstuvwxyz'. Write a function called frequencies() that takes a string as its only parameter, and returns a list of integers, showing the number of times each character appears in the text. Your function may ignore any characters that are not in letters. \n",
    "#### >>> frequencies('The quick red fox got bored and went home.') \n",
    "> [1, 1, 1, 3, 5, 1, 1, 2, 1, 0, 1, 0, 1, 2, 4, 0, 1, 2, 0, 2, 1, 0, 1, 1, 0, 0]\n",
    "#### >>> frequencies('apple')"
   ]
  },
  {
   "cell_type": "code",
   "execution_count": 84,
   "id": "0227f7aa",
   "metadata": {},
   "outputs": [
    {
     "name": "stdout",
     "output_type": "stream",
     "text": [
      "Enter the message: The quick red fox got bored and went home.\n",
      "frequncies('The quick red fox got bored and went home.')\n",
      "[1, 1, 1, 3, 5, 1, 1, 2, 1, 0, 1, 0, 1, 2, 4, 0, 1, 2, 0, 2, 1, 0, 1, 1, 0, 0]\n"
     ]
    }
   ],
   "source": [
    "def frequencies():\n",
    "    message = input('Enter the message: ')\n",
    "    letters ='abcdefghijklmnopqrstuvwxyz'\n",
    "    lst = []\n",
    "    for char in letters:\n",
    "        number= message.count(char) \n",
    "        lst.append(number)\n",
    "    \n",
    "    \n",
    "    print(\"frequncies('\" + message +\"')\")\n",
    "    print(lst)\n",
    "    \n",
    "frequencies() \n"
   ]
  },
  {
   "cell_type": "code",
   "execution_count": 85,
   "id": "47ee6495",
   "metadata": {},
   "outputs": [
    {
     "name": "stdout",
     "output_type": "stream",
     "text": [
      "Enter the message: apple\n",
      "frequncies('apple')\n",
      "[1, 0, 0, 0, 1, 0, 0, 0, 0, 0, 0, 1, 0, 0, 0, 2, 0, 0, 0, 0, 0, 0, 0, 0, 0, 0]\n"
     ]
    }
   ],
   "source": [
    "def frequencies():\n",
    "    message = input('Enter the message: ')\n",
    "    letters ='abcdefghijklmnopqrstuvwxyz'\n",
    "    lst = []\n",
    "    for char in letters:\n",
    "        number= message.count(char) \n",
    "        lst.append(number)\n",
    "    \n",
    "    \n",
    "    print(\"frequncies('\" + message +\"')\")\n",
    "    print(lst)\n",
    "    \n",
    "frequencies() \n"
   ]
  }
 ],
 "metadata": {
  "kernelspec": {
   "display_name": "Python 3 (ipykernel)",
   "language": "python",
   "name": "python3"
  },
  "language_info": {
   "codemirror_mode": {
    "name": "ipython",
    "version": 3
   },
   "file_extension": ".py",
   "mimetype": "text/x-python",
   "name": "python",
   "nbconvert_exporter": "python",
   "pygments_lexer": "ipython3",
   "version": "3.9.15"
  }
 },
 "nbformat": 4,
 "nbformat_minor": 5
}
